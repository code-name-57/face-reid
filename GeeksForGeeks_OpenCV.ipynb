{
 "cells": [
  {
   "cell_type": "markdown",
   "id": "0c37b0b2-c8aa-4417-a5e5-ad99f2fb9ce4",
   "metadata": {},
   "source": [
    "# GeeksForGeeks Tutorial\n",
    "https://www.geeksforgeeks.org/opencv-python-tutorial/"
   ]
  },
  {
   "cell_type": "markdown",
   "id": "2b973a15-adda-4907-b5eb-a42c9911e983",
   "metadata": {},
   "source": [
    "*For the implementation, we need to install the OpenCV library using the following command:*\n",
    "`pip install opencv-python`"
   ]
  },
  {
   "cell_type": "code",
   "execution_count": null,
   "id": "b1dcba05-3b13-48a0-b0a8-511f58aeec8a",
   "metadata": {},
   "outputs": [],
   "source": [
    "pip install opencv-python"
   ]
  },
  {
   "cell_type": "code",
   "execution_count": null,
   "id": "15cba56d-f70d-44f8-b81b-c880707a2709",
   "metadata": {},
   "outputs": [],
   "source": [
    "# test if properly installed\n",
    "import cv2\n",
    "print(cv2.__version__)"
   ]
  },
  {
   "cell_type": "markdown",
   "id": "6b4b41df-6363-4175-8b48-0efcc81357d4",
   "metadata": {},
   "source": [
    "---\n",
    "*To continue in free time (after primary tasks completed) or if struggling with tasks involving OpenCV*\n",
    "\n",
    "---"
   ]
  }
 ],
 "metadata": {
  "kernelspec": {
   "display_name": "Python [conda env:base] *",
   "language": "python",
   "name": "conda-base-py"
  },
  "language_info": {
   "codemirror_mode": {
    "name": "ipython",
    "version": 3
   },
   "file_extension": ".py",
   "mimetype": "text/x-python",
   "name": "python",
   "nbconvert_exporter": "python",
   "pygments_lexer": "ipython3",
   "version": "3.12.7"
  }
 },
 "nbformat": 4,
 "nbformat_minor": 5
}
