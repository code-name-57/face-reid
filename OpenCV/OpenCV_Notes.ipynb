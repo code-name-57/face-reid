{
 "cells": [
  {
   "cell_type": "markdown",
   "id": "d3c18943-ebc0-4325-b7d6-5b9a99cb2440",
   "metadata": {},
   "source": [
    "# <span style=\"color:Teal\">OpenCV Notes - Kaniesa Deswal</span>\n",
    "*Source: https://learnopencv.com/getting-started-with-opencv/*"
   ]
  },
  {
   "cell_type": "markdown",
   "id": "166d8841-4928-404c-b8d0-5705f60e44ca",
   "metadata": {},
   "source": [
    "---"
   ]
  },
  {
   "cell_type": "markdown",
   "id": "57eaf6fc-4209-4aa9-a38f-2c2da22192c3",
   "metadata": {},
   "source": [
    "## <span style=\"color:Teal\">1. Read, Display and Write an Image using OpenCV</span>"
   ]
  },
  {
   "cell_type": "markdown",
   "id": "2deedf83-1403-4cba-bb57-64e5396a35c6",
   "metadata": {},
   "source": [
    "### <span style=\"color:DarkSlateGray\">Reading An Image</span>"
   ]
  },
  {
   "cell_type": "markdown",
   "id": "db76fb08-5ed4-47f4-8058-2b5f4c0ce19b",
   "metadata": {},
   "source": [
    "Use `imread(filename, flags)`\n",
    "\n",
    "**Arguments:**\n",
    "\n",
    "* <u>filename</u>: image name, which requires a fully qualified pathname to the file.\n",
    "* <u>flags</u>: optional, to specify how the image should be represented (examples below)\n",
    "    * `cv2.IMREAD_UNCHANGED`  or `-1`\n",
    "    * `cv2.IMREAD_GRAYSCALE`  or `0`\n",
    "    * `cv2.IMREAD_COLOR`  or `1`\n",
    "\n",
    "Note: default for flags is 1, which is coloured (other flag types [here](https://docs.opencv.org/4.x/d8/d6a/group__imgcodecs__flags.html#ga61d9b0126a3e57d9277ac48327799c80))"
   ]
  },
  {
   "cell_type": "code",
   "execution_count": null,
   "id": "e91fa834-caec-4cd9-b85f-9debb9e52c0d",
   "metadata": {},
   "outputs": [],
   "source": [
    "# import cv2 library\n",
    "import cv2\n",
    "img_color = cv2.imread('test.jpg', 1)\n",
    "img_grayscale = cv2.imread('test.jpg', 0)\n",
    "img_unchanged = cv2.imread('test.jpg', -1)"
   ]
  },
  {
   "cell_type": "markdown",
   "id": "b6fec3be-1cc5-4c3b-a8dd-6aea4f027f25",
   "metadata": {},
   "source": [
    " "
   ]
  },
  {
   "cell_type": "markdown",
   "id": "02a3c4e8-e7b9-448a-8911-6dad79b12112",
   "metadata": {},
   "source": [
    "### <span style=\"color:DarkSlateGray\">Displaying An Image</span>"
   ]
  },
  {
   "cell_type": "markdown",
   "id": "72ff50b7-4439-47cb-898f-b1881153b5bb",
   "metadata": {},
   "source": [
    "Use `imshow(window_name, image)`\n",
    "\n",
    "**Arguments:**\n",
    "* <u>window_name</u>: the name that will be displayed on the window\n",
    "* <u>image</u>: the image you want to display\n",
    "\n",
    "Note: designed to be used along with `waitKey()` and `destroyAllWindows()` / `destroyWindow()` \n",
    "\n",
    "**Other Functions & More Details:**\n",
    "* <u>Multiple  Images</u>: Specify a new window name for every image to display\n",
    "* <u>`waitKey()`</u>: keyboard-binding function\n",
    "  * single argument, time in ms, of how long window will be displayed\n",
    "  * if user presses any key within this time, program continues\n",
    "  * If argument is 0, program waits indefinitely for key press\n",
    "  * can also set function to detect specific key strokes (e.g. Q or ESC)\n",
    "* <u>`destroyAllWindows()`</u>: destroys all windows, clears window/image from main memory of system.\n",
    "  * To destroy specific window, give exact window name as the argument"
   ]
  },
  {
   "cell_type": "code",
   "execution_count": null,
   "id": "a16e50fe-bfd0-432c-ab42-e1f7f7f85359",
   "metadata": {},
   "outputs": [],
   "source": [
    "# Display image inside window\n",
    "cv2.imshow('color image', img_color)\n",
    "cv2.imshow('grayscale image', img_grayscale)\n",
    "cv2.imshow('unchanged image', img_unchanged)\n",
    "\n",
    "# Waits for a keystroke\n",
    "cv2.waitKey(0)\n",
    "\n",
    "# Destroys all the windows created\n",
    "cv2.destroyAllWindows()"
   ]
  },
  {
   "cell_type": "markdown",
   "id": "45949080-37bd-444d-b693-1b90bd7955c7",
   "metadata": {},
   "source": [
    " "
   ]
  },
  {
   "cell_type": "markdown",
   "id": "00bed72c-cf88-4fc5-ab27-744424885aa1",
   "metadata": {
    "jp-MarkdownHeadingCollapsed": true
   },
   "source": [
    "### <span style=\"color:DarkSlateGray\">Writing An Image</span>"
   ]
  },
  {
   "cell_type": "markdown",
   "id": "7baaf8eb-420b-49eb-b7c4-1a74fae93aa2",
   "metadata": {},
   "source": [
    "Use `imwrite(filename, image)`\n",
    "\n",
    "**Arguments**\n",
    "* <u>filename</u>: the filename you're setting, which must include filename extension (e.g. .png, .jpg, etc.)\n",
    "* <u>image</u>: the image you want to save. will return `True` if successfully saved\n"
   ]
  },
  {
   "cell_type": "code",
   "execution_count": null,
   "id": "573667da-00cc-4562-836d-0831f63830ef",
   "metadata": {},
   "outputs": [],
   "source": [
    "cv2.imwrite('grayscale.jpg', img_grayscale)"
   ]
  },
  {
   "cell_type": "markdown",
   "id": "f42bdf48-4154-4a5e-9386-bd486e4698c8",
   "metadata": {
    "jp-MarkdownHeadingCollapsed": true
   },
   "source": [
    "### \n",
    "---"
   ]
  },
  {
   "cell_type": "markdown",
   "id": "dc5003dc-0a27-4e39-a754-199c9f41422a",
   "metadata": {
    "jp-MarkdownHeadingCollapsed": true
   },
   "source": [
    "## <span style=\"color:Teal\">2. Reading and Writing Videos using OpenCV</span>"
   ]
  },
  {
   "cell_type": "markdown",
   "id": "fece3c9d-231d-4112-9b7b-2344ab9f12c2",
   "metadata": {
    "jp-MarkdownHeadingCollapsed": true
   },
   "source": [
    "### <span style=\"color:DarkSlateGray\">Reading Video From a File</span>"
   ]
  },
  {
   "cell_type": "markdown",
   "id": "7f42be92-b7d4-4f83-b567-8f080fa17c6a",
   "metadata": {},
   "source": [
    "Use `VideoCapture(path, apiPreference)`\n",
    "\n",
    "**Arguments**\n",
    "* <u>path</u>: the filename/path to the video file\n",
    "* <u>apiPreference</u>: optional\n",
    "\n",
    "Note: the optional argument on API preferences discussed down further below\n",
    "\n",
    "**Other Functions & More Details:**\n",
    "* <u>`isOpened()`</u>: returns a boolean that indicates if the video stream is valid\n",
    "  * Otherwise, will get an error message (can mean many things including some frames or even entire video is corrupted)\n",
    "* <u>`get()`</u>: method to retrieve important metadata associated with the video stream\n",
    "  * Takes a single argument from [list](https://docs.opencv.org/4.x/d4/d15/group__videoio__flags__base.html#gaeb8dd9c89c10a5c63c139bf7c4f5704d) of options such as frame rate (`5` or `CAP_PROP_FPS`) and frame count (`7` or `CAP_PROP_FRAME_COUNT`)\n",
    "  * Note: not applicable to web cameras\n"
   ]
  },
  {
   "cell_type": "code",
   "execution_count": null,
   "id": "c7374049-b95f-401d-8221-1fae15d070ff",
   "metadata": {},
   "outputs": [],
   "source": [
    "# to ensure Jupyter Notebook can handle to mp4 files\n",
    "# !pip install mediapy\n",
    "\n",
    "import mediapy as media"
   ]
  },
  {
   "cell_type": "code",
   "execution_count": null,
   "id": "f0554c93-615a-498c-94e8-10053eef83f5",
   "metadata": {},
   "outputs": [],
   "source": [
    "# Import Libraries\n",
    "import cv2\n",
    "\n",
    "# Create a video capture object (in this case, reading video from file)\n",
    "vid_capture = cv2.VideoCapture(\"Cars.mp4\")\n",
    "\n",
    "# Confirm if video opened successfully\n",
    "if( vid_capture.isOpened() == False ):\n",
    "    print(\"Error opening the video file\")\n",
    "else:\n",
    "    # Get frame rate information\n",
    "    fps = int( vid_capture.get(5) )\n",
    "    print(\"Frame Rate : \", fps, \"frames per second\")\n",
    "\n",
    "    # Get frame count\n",
    "    frame_count = vid_capture.get(7)\n",
    "    print(\"Frame Count : \", frame_count)\n",
    "    "
   ]
  },
  {
   "cell_type": "markdown",
   "id": "0edcac46-fac1-4820-8e0e-99f6e887598b",
   "metadata": {},
   "source": [
    "Now use `vid_capture.read()`\n",
    "\n",
    "**About Method**\n",
    "* returns a tuple\n",
    "* first element is a boolean (when True, indicates the video contains a frame to read)\n",
    "* second element is the actual video frame\n",
    "\n",
    "**Other Functions & More Details:**\n",
    "* <u>Recall `imshow()`</u>: can use if there is a frame to read\n",
    "  * displays the current frame in a window (otherwise exit the loop)\n",
    "* <u>Recall `waitKey()`</u>: same as for images, see below for specific key use (new)\n",
    "* <u>`vid_capture.read()`</u>: release the video-capture object\n",
    "  "
   ]
  },
  {
   "cell_type": "code",
   "execution_count": null,
   "id": "4ad0752e-3464-49f4-b6dc-fb31c6a08fd9",
   "metadata": {},
   "outputs": [],
   "source": [
    "while(vid_capture.isOpened()):\n",
    "    ret, frame = vid_capture.read()\n",
    "    if ret == True: # if there is a frame to read\n",
    "        cv2.imshow('Frame', frame)\n",
    "        k = cv2.waitKey(20) # set k to waitKey for 20ms\n",
    "        if k == 113: # 113 is ASCII for q\n",
    "            break # continue loop if q pressed (waitkey linked to q)\n",
    "    else:\n",
    "        break\n",
    "\n",
    "vid_capture.release()\n",
    "cv2.destroyAllWindows()"
   ]
  },
  {
   "cell_type": "markdown",
   "id": "38bc49e8-9d5a-443d-91c6-5373b8697ba4",
   "metadata": {
    "jp-MarkdownHeadingCollapsed": true
   },
   "source": [
    "### <span style=\"color:DarkSlateGray\">Reading an Image Sequence</span>"
   ]
  },
  {
   "cell_type": "markdown",
   "id": "ff8cc9bb-8965-4b92-9437-a64924e11ae7",
   "metadata": {},
   "source": [
    "**Notes**\n",
    "* Instead of being given a file, given a sequence of images (typically each frame of a video)\n",
    "* For processing frames, it's basically same as for a file EXCEPT...\n",
    "* Need to specify image files\n",
    "\n",
    "**Naming Convention For Image Sequence**\n",
    "\n",
    "Using the notation shown: `Cars%04d.jpg`\n",
    "\n",
    "where `Cars` is the common prefix and `%04d` indicates a four-digit sequence-naming convention (e.g. `Cars0001.jpg`, `Cars0002.jpg`, `Cars0003.jpg`, etc).  \n",
    "\n",
    "If you had specified `“Race_Cars_%02d.jpg”` then you would be looking for files of the form: \n",
    "- `Race_Cars_01.jpg`\n",
    "- `Race_Cars_02.jpg`\n",
    "- `Race_Cars_03.jpg`\n",
    "- etc…"
   ]
  },
  {
   "cell_type": "code",
   "execution_count": null,
   "id": "913f4cac-2d26-4b14-96d5-343e04a2f171",
   "metadata": {},
   "outputs": [],
   "source": [
    "# Don't run, as don't have images but would replace variable value like this:\n",
    "vid_capture = cv2.VideoCapture('Resources/Image_sequence/Cars%04d.jpg')"
   ]
  },
  {
   "cell_type": "markdown",
   "id": "cc8c3188-8d07-4f5e-9b50-5eeb64507f0e",
   "metadata": {
    "jp-MarkdownHeadingCollapsed": true
   },
   "source": [
    "### <span style=\"color:DarkSlateGray\">Reading Video from a Webcam</span>"
   ]
  },
  {
   "cell_type": "markdown",
   "id": "7ced893a-1606-433e-b7a9-4ec72eaff1d8",
   "metadata": {},
   "source": [
    "**Notes**\n",
    "* Reading video stream from a web camera is basically same (win OpenCV for convenience)\n",
    "* Don't need to specify source location for a video file or an image sequence\n",
    "* Need to give a video capture device index \n",
    "\n",
    "*If your system has a built-in webcam, then the device index for the camera will be ‘0’. \n",
    "If you have more than one camera connected to your system, then the device index associated with each additional camera is incremented (e.g. 1, 2, etc).*"
   ]
  },
  {
   "cell_type": "code",
   "execution_count": null,
   "id": "7ac8b22e-2e34-485e-aaf4-b0d57ac4b230",
   "metadata": {},
   "outputs": [],
   "source": [
    "# Don't run, as don't have images but would replace variable value like this:\n",
    "vid_capture = cv2.VideoCapture(0, cv2.CAP_DSHOW)"
   ]
  },
  {
   "cell_type": "markdown",
   "id": "3b67d8d7-1ccf-4845-9b32-df517a64e19e",
   "metadata": {
    "jp-MarkdownHeadingCollapsed": true
   },
   "source": [
    "### <span style=\"color:DarkSlateGray\">Writing Videos</span>"
   ]
  },
  {
   "cell_type": "markdown",
   "id": "e7169325-efbd-4ffb-9f0d-604dcac75731",
   "metadata": {},
   "source": [
    "Use `VideoWriter(filename, apiPreference, fourcc, fps, frameSize[, isColor])`\n",
    "\n",
    "**Arguments**\n",
    "* <u>filename</u>: pathname to set for output video file\n",
    "* <u>apiPreference</u>: API backends identifier\n",
    "* <u>fourcc</u>: 4-char code of codec, to compress frames\n",
    "* <u>fps</u>: frame rate (of created video stream)\n",
    "* <u>frame_size</u>: size of video frames (height & width)\n",
    "* <u>isColor</u>: colored unless 0 (optional?)\n",
    "\n",
    "*Note: A special convenience function is used to retrieve the four-character codec, required as the second argument to the video writer object, cv2: `VideoWriter_fourcc('M', 'J', 'P', 'G')`*\n",
    "\n",
    "*The video codec specifies how the video stream is compressed. It converts uncompressed video to a compressed format or vice versa. To create AVI or MP4 formats, use the following fourcc specifications:*\n",
    "\n",
    "*AVI: `cv2.VideoWriter_fourcc('M','J','P','G')`*\n",
    "\n",
    "*MP4: `cv2.VideoWriter_fourcc(*'XVID')`*\n",
    "\n",
    "**Steps To Write A File**\n",
    "1. Retrieve image frame height & width (using `get()` and it's argument [list](https://docs.opencv.org/4.5.2/d4/d15/group__videoio__flags__base.html#gaeb8dd9c89c10a5c63c139bf7c4f5704d))\n",
    "2. Initialize video capture object to read video stream into memory\n",
    "3. Create a video writer object\n",
    "4. Use the video writer object to save video stream to disk"
   ]
  },
  {
   "cell_type": "code",
   "execution_count": null,
   "id": "eeceaa80-17b5-4f48-9a26-28d350705188",
   "metadata": {},
   "outputs": [],
   "source": [
    "# Get frame size info using get() method\n",
    "frame_width = int( vid_capture.get(3) )\n",
    "frame_height = int( vid_capture.get(4) )\n",
    "frame_size = (frame_width, frame_height )\n",
    "fps = 20\n",
    "\n",
    "# Initialize video writer object\n",
    "output = cv2.VideoWriter('Outputcars.avi', cv2.VideoWriter_fourcc('M','J','P','G'), 20, frame_size)\n",
    "\n",
    "while(vid_capture.isOpened()):\n",
    "    # vid_capture.read() methods returns a tuple, first element is a bool \n",
    "    # and the second is frame\n",
    " \n",
    "    ret, frame = vid_capture.read()\n",
    "    if ret == True:\n",
    "           # Write the frame to the output files\n",
    "           output.write(frame)\n",
    "    else:\n",
    "        print('Stream disconnected')\n",
    "        break\n",
    "\n",
    "# Release the objects\n",
    "vid_capture.release()\n",
    "output.release()"
   ]
  },
  {
   "cell_type": "markdown",
   "id": "5b680552-0e39-49cd-82f5-b5d49a87feea",
   "metadata": {
    "jp-MarkdownHeadingCollapsed": true
   },
   "source": [
    "## <span style=\"color:Teal\">3. Image Resizing with OpenCV</span>"
   ]
  },
  {
   "cell_type": "markdown",
   "id": "daee3d46-be1f-4464-a41f-b6a3fe1af8d9",
   "metadata": {},
   "source": [
    "To resize an image, scale it along each axis (height & width), considering the specified scale factors (or just set the desired height & width)\n",
    "\n",
    "**When resizing an image:**\n",
    "* Keep in mind original aspect ratio (width by height)\n",
    "* Reducing size of image requires resampling of the pixels\n",
    "* Increasing size of image requires reconstruction of the image. (need to interpolate new pixels.)"
   ]
  },
  {
   "cell_type": "markdown",
   "id": "54962cb0-59cd-426b-aaf4-f887d7fe26ea",
   "metadata": {
    "jp-MarkdownHeadingCollapsed": true
   },
   "source": [
    "### <span style=\"color:DarkSlateGray\">Read The Image</span>"
   ]
  },
  {
   "cell_type": "markdown",
   "id": "86b6055a-2894-461c-8ecd-451430a452aa",
   "metadata": {},
   "source": [
    "Use `image.shape` (returns three values: Height, Width, & Number of Channels)\n",
    "\n",
    "OR `image.size().width` & `image.size().height`\n"
   ]
  },
  {
   "cell_type": "code",
   "execution_count": null,
   "id": "42b9f1c7-08bf-4bf9-ac63-17dc57a3d20e",
   "metadata": {},
   "outputs": [],
   "source": [
    "# Import Libraries\n",
    "import cv2\n",
    "import numpy as np\n",
    "\n",
    "# Reading image\n",
    "image = cv2.imread('image.jpg')\n",
    "\n",
    "# Get Height & Width of Image\n",
    "h, w, c = image.shape\n",
    "print(\"Original Height & Width:\", h, \"x\", w )\n",
    "\n"
   ]
  },
  {
   "cell_type": "markdown",
   "id": "598d7cb1-bfd5-4ae7-82f0-fae69508cdb0",
   "metadata": {
    "jp-MarkdownHeadingCollapsed": true
   },
   "source": [
    "### <span style=\"color:DarkSlateGray\">Resize Function Syntax</span>"
   ]
  },
  {
   "cell_type": "markdown",
   "id": "9ef9c9dd-aff7-4313-b04a-a3476dabbd0d",
   "metadata": {},
   "source": [
    "Use `resize()`\n",
    "\n",
    "**Arguments**\n",
    "* The source image\n",
    "* Desired size of resized image\n",
    "\n",
    "With varying argument options too: `resize(src, dsize[, dst[, fx[, fy[, interpolation]]]])`\n",
    "\n",
    "**Argument Options**\n",
    "* <u>src</u>: Required input image\n",
    "* <u>dsize</u>: desired size of output image\n",
    "* <u>fx</u>: Scale factor along x-axis\n",
    "* <u>fy</u>: Scale factor along y-axis\n",
    "* <u>interpolation</u>: allows option of different methods of resizing"
   ]
  },
  {
   "cell_type": "markdown",
   "id": "d3532e1a-e0ef-4b9c-bf65-6f7f3a46d4f3",
   "metadata": {
    "jp-MarkdownHeadingCollapsed": true
   },
   "source": [
    "### <span style=\"color:DarkSlateGray\">Resizing by Specifying Width and Height</span>\n",
    "*note: NOT automatically to scale*"
   ]
  },
  {
   "cell_type": "code",
   "execution_count": null,
   "id": "f03f9012-bebd-4e22-8a6a-c7efaefc3d31",
   "metadata": {},
   "outputs": [],
   "source": [
    "# Set rows and columns\n",
    "# DOWNSIZE image using new width & height\n",
    "down_width = 300\n",
    "down_height = 200\n",
    "down_points = (down_width, down_height)\n",
    "resize_down = cv2.resize( image, down_points, interpolation= cv2.INTER_LINEAR )\n",
    "\n",
    "# Set rows and columns\n",
    "# UPSIZE image using new width & height\n",
    "up_width = 600\n",
    "up_height = 400\n",
    "up_points = (up_width, up_height)\n",
    "resize_up = cv2.resize( image, up_points, interpolation= cv2.INTER_LINEAR )\n",
    "\n",
    "# Display Images\n",
    "cv2.imshow( 'Original Image', image )\n",
    "cv2.waitKey()\n",
    "cv2.imshow( 'Resized Down by defining height and width', resize_down )\n",
    "cv2.waitKey()\n",
    "cv2.imshow( 'Resized Up by defining height and width', resize_up )\n",
    "cv2.waitKey()\n",
    "cv2.destroyAllWindows()\n"
   ]
  },
  {
   "cell_type": "markdown",
   "id": "54caa921-cf90-43ca-b0e4-258eec89af05",
   "metadata": {
    "jp-MarkdownHeadingCollapsed": true
   },
   "source": [
    "### <span style=\"color:DarkSlateGray\">Resizing With a Scaling Factor</span>"
   ]
  },
  {
   "cell_type": "code",
   "execution_count": null,
   "id": "81e78800-d5b2-4591-9bb2-ed43c868e115",
   "metadata": {},
   "outputs": [],
   "source": [
    "# Scaling UP image 1.2 times (by specifying BOTH factors)\n",
    "scaleUP_x = 1.2\n",
    "scaleUP_y = 1.2\n",
    "\n",
    "scaledUP_img = cv2.resize( image, None, fx= scaleUP_x, fy= scaleUP_y, interpolation= cv2.INTER_LINEAR )\n",
    "\n",
    "# Scaling DOWN image 0.6 times (by specify a SINGLE factor)\n",
    "scaleDOWN = 0.6\n",
    "scaledDOWN_img = cv2.resize( image, None, fx= scaleDOWN, fy= scaleDOWN, interpolation= cv2.INTER_LINEAR )\n",
    "\n",
    "# Display Images\n",
    "cv2.imshow( 'Original Image', image )\n",
    "cv2.waitKey()\n",
    "cv2.imshow( 'Scaled UP Image', scaledUP_img )\n",
    "cv2.waitKey()\n",
    "cv2.imshow( 'Scaled DOWN Image', scaledDOWN_img )\n",
    "cv2.waitKey()\n",
    "cv2.destroyAllWindows()\n"
   ]
  },
  {
   "cell_type": "markdown",
   "id": "31be8389-0251-47cc-8db6-11f84b2a3e88",
   "metadata": {
    "jp-MarkdownHeadingCollapsed": true
   },
   "source": [
    "### <span style=\"color:DarkSlateGray\">Resizing With a Scaling Factor</span>"
   ]
  },
  {
   "cell_type": "markdown",
   "id": "2fc96884-b334-4d9f-9186-55855394ece5",
   "metadata": {},
   "source": [
    "**Interpolation Methods**\n",
    "* `INTER_AREA`: INTER_AREA uses pixel area relation for resampling. This is best suited for reducing the size of an image (shrinking). When used for zooming into the image, it uses the INTER_NEAREST method.\n",
    "  \n",
    "* `INTER_CUBIC`: This uses bicubic interpolation for resizing the image. While resizing and interpolating new pixels, this method acts on the 4×4 neighboring pixels of the image. It then takes the weights average of the 16 pixels to create the new interpolated pixel.\n",
    "\n",
    "* `INTER_LINEAR`: This method is somewhat similar to the INTER_CUBIC interpolation. But unlike INTER_CUBIC, this uses 2×2 neighboring pixels to get the weighted average for the interpolated pixel.\n",
    "\n",
    "* `INTER_NEAREST`: The INTER_NEAREST method uses the nearest neighbor concept for interpolation. This is one of the simplest methods, using only one neighboring pixel from the image for interpolation."
   ]
  },
  {
   "cell_type": "code",
   "execution_count": null,
   "id": "a3534e1f-f80a-4d1e-ab53-71ffee836745",
   "metadata": {},
   "outputs": [],
   "source": [
    "# Scaling Down the image 0.6 times using different Interpolation Method\n",
    "res_inter_nearest = cv2.resize(image, None, fx= scaleDOWN, fy= scaleDOWN, interpolation= cv2.INTER_NEAREST)\n",
    "res_inter_linear = cv2.resize(image, None, fx= scaleDOWN, fy= scaleDOWN, interpolation= cv2.INTER_LINEAR)\n",
    "res_inter_area = cv2.resize(image, None, fx= scaleDOWN, fy= scaleDOWN, interpolation= cv2.INTER_AREA)\n",
    "\n",
    "# Display Images (?) - NOTE TO SELF: LOOK AT AGAIN LATER\n",
    "# Concatenate images in horizontal axis for comparison\n",
    "vertical= np.concatenate((res_inter_nearest, res_inter_linear, res_inter_area), axis = 0)\n",
    "# Display the image Press any key to continue\n",
    "cv2.imshow('Inter Nearest :: Inter Linear :: Inter Area', vertical)\n",
    "cv2.waitKey()\n",
    "cv2.destroyAllWindows()\n"
   ]
  },
  {
   "cell_type": "markdown",
   "id": "027ec4a5-96c6-4309-bd74-d68469a5d96a",
   "metadata": {},
   "source": [
    "## <span style=\"color:Teal\">4. Cropping an Image using OpenCV</span>"
   ]
  },
  {
   "cell_type": "markdown",
   "id": "372126e9-3ddd-4640-96d9-ec661aa11552",
   "metadata": {},
   "source": [
    "### <span style=\"color:DarkSlateGray\">Cropping</span>"
   ]
  },
  {
   "cell_type": "markdown",
   "id": "0864b469-88d8-42a9-8d47-e62dffa4badc",
   "metadata": {},
   "source": [
    "**General Notes**\n",
    "* Crop to remove unwanted objects/areas\n",
    "* Crop to highlight feauture of image\n",
    "* No specific function for it\n",
    "* Recall images are arrays, so same method as `NumPy` to slice array\n",
    "\n",
    "**Crop Syntax**\n",
    "\n",
    "Example: `image_file_name[x1:x2, y1:y2]` where...\n",
    "* <u>image_file_name</u> is name of image to be cropped\n",
    "* <u>x1</u> is starting x-coord of cropped image\n",
    "* <u>x2</u> is ending x-coord of cropped image\n",
    "* same for <u>y1</u> and <u>y2</u> but with y-coords\n",
    "* to quote tutorial, `cropped = img[start_row:end_row, start_col:end_col]`"
   ]
  },
  {
   "cell_type": "code",
   "execution_count": 1,
   "id": "5651e676-2e9e-48df-8bdd-dd203a9f61a1",
   "metadata": {},
   "outputs": [
    {
     "name": "stdout",
     "output_type": "stream",
     "text": [
      "(682, 1024, 3)\n"
     ]
    }
   ],
   "source": [
    "# Import packages\n",
    "import cv2\n",
    "#import numpy as np #don't need for this??\n",
    " \n",
    "img = cv2.imread('test.jpg')\n",
    "print(img.shape) # Get dimensions\n",
    "cv2.imshow(\"original\", img) # Display image\n",
    " \n",
    "# Cropping an image\n",
    "cropped_image = img[150:576, 300:675] \n",
    "    # Note: the tutorial (for some reason) says [80:280, 150:330] is the flower\n",
    "    # It's not. the coords above should be it! (and fits better w next part)\n",
    " \n",
    "# Display cropped image\n",
    "cv2.imshow(\"cropped\", cropped_image)\n",
    " \n",
    "# Save the cropped image\n",
    "cv2.imwrite(\"Cropped Image.jpg\", cropped_image)\n",
    " \n",
    "cv2.waitKey(0)\n",
    "cv2.destroyAllWindows()"
   ]
  },
  {
   "cell_type": "markdown",
   "id": "51eaf1dd-3395-4faf-b6e9-9156ffd8fbbb",
   "metadata": {},
   "source": [
    "### <span style=\"color:DarkSlateGray\">Dividing an Image Into Small Patches Using Cropping</span>"
   ]
  },
  {
   "cell_type": "markdown",
   "id": "fc3f1754-ec1d-47e1-b629-ce437f4fcd3e",
   "metadata": {},
   "source": [
    "**Steps**\n",
    "* Get height & width of image\n",
    "* Use loops to crop out a fragments of image\n"
   ]
  },
  {
   "cell_type": "code",
   "execution_count": 11,
   "id": "6287008f-165c-4245-b5b3-1a93234d2651",
   "metadata": {},
   "outputs": [
    {
     "name": "stdout",
     "output_type": "stream",
     "text": [
      "(426, 375, 3)\n"
     ]
    }
   ],
   "source": [
    "img = cv2.imread(\"Cropped Image.jpg\")\n",
    "print(img.shape)\n",
    "\n",
    "image_copy = img.copy() # make a copy\n",
    "\n",
    "imgheight = img.shape[0]\n",
    "imgwidth = img.shape[1]\n",
    "\n",
    "# My Version (TUTORIAL VERSION BELOW)\n",
    "numRows = 3 #modifyable\n",
    "numCols = 3 #modifyable\n",
    "M = int(imgheight / numCols)\n",
    "N = int(imgwidth / numRows)\n",
    "y2 = 0\n",
    "x2 = 0\n",
    "\n",
    "for y in range(0, imgheight + 1, M ):\n",
    "    for x in range(0, imgwidth + 1, N ):\n",
    "        y2 = y + M\n",
    "        x2 = x + N\n",
    "        \n",
    "        tiles = image_copy[y:y2, x:x2]\n",
    "        cv2.rectangle(img, (x, y), (x2, y2), (0, 255, 0), 1)\n",
    "        \n",
    "        \n",
    "\n",
    "#Save full image into file directory\n",
    "cv2.imshow(\"Patched Image\",img)\n",
    "cv2.imwrite(\"MYpatched.jpg\",img)\n",
    "  \n",
    "cv2.waitKey()\n",
    "cv2.destroyAllWindows()"
   ]
  },
  {
   "cell_type": "code",
   "execution_count": 21,
   "id": "133c1088-504d-480b-88a5-2718c3d83326",
   "metadata": {},
   "outputs": [],
   "source": [
    "## Tutorial Version\n",
    "img = cv2.imread(\"Cropped Image.jpg\")\n",
    "image_copy = img.copy() # make a copy\n",
    "M = 76\n",
    "N = 104\n",
    "x1 = 0\n",
    "y1 = 0\n",
    "\n",
    "for y in range(0, imgheight, M):\n",
    "    for x in range(0, imgwidth, N):\n",
    "        if (imgheight - y) < M or (imgwidth - x) < N:\n",
    "            break\n",
    "             \n",
    "        y1 = y + M\n",
    "        x1 = x + N\n",
    " \n",
    "        # check whether the patch width or height exceeds the image width or height\n",
    "        if x1 >= imgwidth and y1 >= imgheight:\n",
    "            x1 = imgwidth - 1\n",
    "            y1 = imgheight - 1\n",
    "            #Crop into patches of size MxN\n",
    "            tiles = image_copy[y:y+M, x:x+N]\n",
    "            #Save each patch into file directory\n",
    "            cv2.imwrite('saved_patches/'+'tile'+str(x)+'_'+str(y)+'.jpg', tiles)\n",
    "            cv2.rectangle(img, (x, y), (x1, y1), (0, 255, 0), 1)\n",
    "        elif y1 >= imgheight: # when patch height exceeds the image height\n",
    "            y1 = imgheight - 1\n",
    "            #Crop into patches of size MxN\n",
    "            tiles = image_copy[y:y+M, x:x+N]\n",
    "            #Save each patch into file directory\n",
    "            cv2.imwrite('saved_patches/'+'tile'+str(x)+'_'+str(y)+'.jpg', tiles)\n",
    "            cv2.rectangle(img, (x, y), (x1, y1), (0, 255, 0), 1)\n",
    "        elif x1 >= imgwidth: # when patch width exceeds the image width\n",
    "            x1 = imgwidth - 1\n",
    "            #Crop into patches of size MxN\n",
    "            tiles = image_copy[y:y+M, x:x+N]\n",
    "            #Save each patch into file directory\n",
    "            cv2.imwrite('saved_patches/'+'tile'+str(x)+'_'+str(y)+'.jpg', tiles)\n",
    "            cv2.rectangle(img, (x, y), (x1, y1), (0, 255, 0), 1)\n",
    "        else:\n",
    "            #Crop into patches of size MxN\n",
    "            tiles = image_copy[y:y+M, x:x+N]\n",
    "            #Save each patch into file directory\n",
    "            cv2.imwrite('saved_patches/'+'tile'+str(x)+'_'+str(y)+'.jpg', tiles)\n",
    "            cv2.rectangle(img, (x, y), (x1, y1), (0, 255, 0), 1)\n",
    "\n",
    "#Save full image into file directory\n",
    "cv2.imshow(\"Patched Image\",img)\n",
    "cv2.imwrite(\"MYpatched.jpg\",img)\n",
    "  \n",
    "cv2.waitKey()\n",
    "cv2.destroyAllWindows()"
   ]
  }
 ],
 "metadata": {
  "kernelspec": {
   "display_name": "Python [conda env:base] *",
   "language": "python",
   "name": "conda-base-py"
  },
  "language_info": {
   "codemirror_mode": {
    "name": "ipython",
    "version": 3
   },
   "file_extension": ".py",
   "mimetype": "text/x-python",
   "name": "python",
   "nbconvert_exporter": "python",
   "pygments_lexer": "ipython3",
   "version": "3.12.7"
  }
 },
 "nbformat": 4,
 "nbformat_minor": 5
}
